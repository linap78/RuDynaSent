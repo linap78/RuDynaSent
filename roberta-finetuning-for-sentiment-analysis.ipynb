{
 "cells": [
  {
   "cell_type": "raw",
   "metadata": {
    "_kg_hide-input": true,
    "_kg_hide-output": true
   },
   "source": [
    "!pip install transformers evaluate accelerate datasets"
   ]
  },
  {
   "cell_type": "code",
   "execution_count": 3,
   "metadata": {
    "execution": {
     "iopub.execute_input": "2024-02-23T11:03:25.357780Z",
     "iopub.status.busy": "2024-02-23T11:03:25.357484Z",
     "iopub.status.idle": "2024-02-23T11:03:28.580692Z",
     "shell.execute_reply": "2024-02-23T11:03:28.579840Z",
     "shell.execute_reply.started": "2024-02-23T11:03:25.357751Z"
    }
   },
   "outputs": [],
   "source": [
    "import torch\n",
    "\n",
    "device = torch.device('cuda' if torch.cuda.is_available() else 'cpu')"
   ]
  },
  {
   "cell_type": "code",
   "execution_count": 4,
   "metadata": {
    "execution": {
     "iopub.execute_input": "2024-02-23T11:03:28.583953Z",
     "iopub.status.busy": "2024-02-23T11:03:28.583455Z",
     "iopub.status.idle": "2024-02-23T11:03:28.589980Z",
     "shell.execute_reply": "2024-02-23T11:03:28.589191Z",
     "shell.execute_reply.started": "2024-02-23T11:03:28.583920Z"
    }
   },
   "outputs": [
    {
     "data": {
      "text/plain": [
       "device(type='cuda')"
      ]
     },
     "execution_count": 4,
     "metadata": {},
     "output_type": "execute_result"
    }
   ],
   "source": [
    "device"
   ]
  },
  {
   "cell_type": "code",
   "execution_count": 5,
   "metadata": {
    "execution": {
     "iopub.execute_input": "2024-02-23T11:03:28.591211Z",
     "iopub.status.busy": "2024-02-23T11:03:28.590985Z",
     "iopub.status.idle": "2024-02-23T11:03:32.079845Z",
     "shell.execute_reply": "2024-02-23T11:03:32.078723Z",
     "shell.execute_reply.started": "2024-02-23T11:03:28.591191Z"
    }
   },
   "outputs": [
    {
     "data": {
      "text/html": [
       "<div>\n",
       "<style scoped>\n",
       "    .dataframe tbody tr th:only-of-type {\n",
       "        vertical-align: middle;\n",
       "    }\n",
       "\n",
       "    .dataframe tbody tr th {\n",
       "        vertical-align: top;\n",
       "    }\n",
       "\n",
       "    .dataframe thead th {\n",
       "        text-align: right;\n",
       "    }\n",
       "</style>\n",
       "<table border=\"1\" class=\"dataframe\">\n",
       "  <thead>\n",
       "    <tr style=\"text-align: right;\">\n",
       "      <th></th>\n",
       "      <th>review</th>\n",
       "      <th>sentiment</th>\n",
       "    </tr>\n",
       "  </thead>\n",
       "  <tbody>\n",
       "    <tr>\n",
       "      <th>0</th>\n",
       "      <td>качество плохое пошив ужасный (горловина напер...</td>\n",
       "      <td>negative</td>\n",
       "    </tr>\n",
       "    <tr>\n",
       "      <th>1</th>\n",
       "      <td>Товар отдали другому человеку, я не получила п...</td>\n",
       "      <td>negative</td>\n",
       "    </tr>\n",
       "    <tr>\n",
       "      <th>2</th>\n",
       "      <td>Ужасная синтетика! Тонкая, ничего общего с пре...</td>\n",
       "      <td>negative</td>\n",
       "    </tr>\n",
       "    <tr>\n",
       "      <th>3</th>\n",
       "      <td>товар не пришел, продавец продлил защиту без м...</td>\n",
       "      <td>negative</td>\n",
       "    </tr>\n",
       "    <tr>\n",
       "      <th>4</th>\n",
       "      <td>Кофточка голая синтетика, носить не возможно.</td>\n",
       "      <td>negative</td>\n",
       "    </tr>\n",
       "    <tr>\n",
       "      <th>...</th>\n",
       "      <td>...</td>\n",
       "      <td>...</td>\n",
       "    </tr>\n",
       "    <tr>\n",
       "      <th>147196</th>\n",
       "      <td>Для нас было плюсом, что в этом отеле можно ос...</td>\n",
       "      <td>positive</td>\n",
       "    </tr>\n",
       "    <tr>\n",
       "      <th>147197</th>\n",
       "      <td>Очень понравился отель.Хорошие номера с кухней...</td>\n",
       "      <td>positive</td>\n",
       "    </tr>\n",
       "    <tr>\n",
       "      <th>147198</th>\n",
       "      <td>В Петербурге бываю очень часто, поэтому появле...</td>\n",
       "      <td>positive</td>\n",
       "    </tr>\n",
       "    <tr>\n",
       "      <th>147199</th>\n",
       "      <td>Изумительное место! Я просто не ожидала такого...</td>\n",
       "      <td>positive</td>\n",
       "    </tr>\n",
       "    <tr>\n",
       "      <th>147200</th>\n",
       "      <td>Останавливались в этом отеле в августе 2013, р...</td>\n",
       "      <td>positive</td>\n",
       "    </tr>\n",
       "  </tbody>\n",
       "</table>\n",
       "<p>147201 rows × 2 columns</p>\n",
       "</div>"
      ],
      "text/plain": [
       "                                                   review sentiment\n",
       "0       качество плохое пошив ужасный (горловина напер...  negative\n",
       "1       Товар отдали другому человеку, я не получила п...  negative\n",
       "2       Ужасная синтетика! Тонкая, ничего общего с пре...  negative\n",
       "3       товар не пришел, продавец продлил защиту без м...  negative\n",
       "4           Кофточка голая синтетика, носить не возможно.  negative\n",
       "...                                                   ...       ...\n",
       "147196  Для нас было плюсом, что в этом отеле можно ос...  positive\n",
       "147197  Очень понравился отель.Хорошие номера с кухней...  positive\n",
       "147198  В Петербурге бываю очень часто, поэтому появле...  positive\n",
       "147199  Изумительное место! Я просто не ожидала такого...  positive\n",
       "147200  Останавливались в этом отеле в августе 2013, р...  positive\n",
       "\n",
       "[147201 rows x 2 columns]"
      ]
     },
     "execution_count": 5,
     "metadata": {},
     "output_type": "execute_result"
    }
   ],
   "source": [
    "df =  pd.read_csv(\"/kaggle/input/dynasent/data_sentiment.csv\", index_col = False)\n",
    "df"
   ]
  },
  {
   "cell_type": "code",
   "execution_count": 6,
   "metadata": {
    "execution": {
     "iopub.execute_input": "2024-02-23T11:03:32.081536Z",
     "iopub.status.busy": "2024-02-23T11:03:32.081169Z",
     "iopub.status.idle": "2024-02-23T11:03:32.088247Z",
     "shell.execute_reply": "2024-02-23T11:03:32.087326Z",
     "shell.execute_reply.started": "2024-02-23T11:03:32.081502Z"
    }
   },
   "outputs": [],
   "source": [
    "df = df.rename(columns={'review': 'text', 'sentiment': 'label'})"
   ]
  },
  {
   "cell_type": "code",
   "execution_count": 7,
   "metadata": {
    "execution": {
     "iopub.execute_input": "2024-02-23T11:03:32.089656Z",
     "iopub.status.busy": "2024-02-23T11:03:32.089387Z",
     "iopub.status.idle": "2024-02-23T11:03:32.099471Z",
     "shell.execute_reply": "2024-02-23T11:03:32.098593Z",
     "shell.execute_reply.started": "2024-02-23T11:03:32.089633Z"
    }
   },
   "outputs": [],
   "source": [
    "import numpy as np"
   ]
  },
  {
   "cell_type": "code",
   "execution_count": 8,
   "metadata": {
    "execution": {
     "iopub.execute_input": "2024-02-23T11:03:32.100999Z",
     "iopub.status.busy": "2024-02-23T11:03:32.100710Z",
     "iopub.status.idle": "2024-02-23T11:03:32.179013Z",
     "shell.execute_reply": "2024-02-23T11:03:32.177911Z",
     "shell.execute_reply.started": "2024-02-23T11:03:32.100975Z"
    }
   },
   "outputs": [
    {
     "data": {
      "text/html": [
       "<div>\n",
       "<style scoped>\n",
       "    .dataframe tbody tr th:only-of-type {\n",
       "        vertical-align: middle;\n",
       "    }\n",
       "\n",
       "    .dataframe tbody tr th {\n",
       "        vertical-align: top;\n",
       "    }\n",
       "\n",
       "    .dataframe thead th {\n",
       "        text-align: right;\n",
       "    }\n",
       "</style>\n",
       "<table border=\"1\" class=\"dataframe\">\n",
       "  <thead>\n",
       "    <tr style=\"text-align: right;\">\n",
       "      <th></th>\n",
       "      <th>text</th>\n",
       "      <th>label</th>\n",
       "    </tr>\n",
       "  </thead>\n",
       "  <tbody>\n",
       "    <tr>\n",
       "      <th>0</th>\n",
       "      <td>качество плохое пошив ужасный (горловина напер...</td>\n",
       "      <td>negative</td>\n",
       "    </tr>\n",
       "    <tr>\n",
       "      <th>1</th>\n",
       "      <td>Товар отдали другому человеку, я не получила п...</td>\n",
       "      <td>negative</td>\n",
       "    </tr>\n",
       "    <tr>\n",
       "      <th>2</th>\n",
       "      <td>Ужасная синтетика! Тонкая, ничего общего с пре...</td>\n",
       "      <td>negative</td>\n",
       "    </tr>\n",
       "    <tr>\n",
       "      <th>3</th>\n",
       "      <td>товар не пришел, продавец продлил защиту без м...</td>\n",
       "      <td>negative</td>\n",
       "    </tr>\n",
       "    <tr>\n",
       "      <th>4</th>\n",
       "      <td>Кофточка голая синтетика, носить не возможно.</td>\n",
       "      <td>negative</td>\n",
       "    </tr>\n",
       "    <tr>\n",
       "      <th>...</th>\n",
       "      <td>...</td>\n",
       "      <td>...</td>\n",
       "    </tr>\n",
       "    <tr>\n",
       "      <th>147196</th>\n",
       "      <td>Для нас было плюсом, что в этом отеле можно ос...</td>\n",
       "      <td>positive</td>\n",
       "    </tr>\n",
       "    <tr>\n",
       "      <th>147197</th>\n",
       "      <td>Очень понравился отель.Хорошие номера с кухней...</td>\n",
       "      <td>positive</td>\n",
       "    </tr>\n",
       "    <tr>\n",
       "      <th>147198</th>\n",
       "      <td>В Петербурге бываю очень часто, поэтому появле...</td>\n",
       "      <td>positive</td>\n",
       "    </tr>\n",
       "    <tr>\n",
       "      <th>147199</th>\n",
       "      <td>Изумительное место! Я просто не ожидала такого...</td>\n",
       "      <td>positive</td>\n",
       "    </tr>\n",
       "    <tr>\n",
       "      <th>147200</th>\n",
       "      <td>Останавливались в этом отеле в августе 2013, р...</td>\n",
       "      <td>positive</td>\n",
       "    </tr>\n",
       "  </tbody>\n",
       "</table>\n",
       "<p>147048 rows × 2 columns</p>\n",
       "</div>"
      ],
      "text/plain": [
       "                                                     text     label\n",
       "0       качество плохое пошив ужасный (горловина напер...  negative\n",
       "1       Товар отдали другому человеку, я не получила п...  negative\n",
       "2       Ужасная синтетика! Тонкая, ничего общего с пре...  negative\n",
       "3       товар не пришел, продавец продлил защиту без м...  negative\n",
       "4           Кофточка голая синтетика, носить не возможно.  negative\n",
       "...                                                   ...       ...\n",
       "147196  Для нас было плюсом, что в этом отеле можно ос...  positive\n",
       "147197  Очень понравился отель.Хорошие номера с кухней...  positive\n",
       "147198  В Петербурге бываю очень часто, поэтому появле...  positive\n",
       "147199  Изумительное место! Я просто не ожидала такого...  positive\n",
       "147200  Останавливались в этом отеле в августе 2013, р...  positive\n",
       "\n",
       "[147048 rows x 2 columns]"
      ]
     },
     "execution_count": 8,
     "metadata": {},
     "output_type": "execute_result"
    }
   ],
   "source": [
    "df['text'].replace('', np.nan, inplace=True)\n",
    "df = df.dropna()\n",
    "df"
   ]
  },
  {
   "cell_type": "code",
   "execution_count": 9,
   "metadata": {
    "execution": {
     "iopub.execute_input": "2024-02-23T11:03:32.180620Z",
     "iopub.status.busy": "2024-02-23T11:03:32.180249Z",
     "iopub.status.idle": "2024-02-23T11:03:32.658569Z",
     "shell.execute_reply": "2024-02-23T11:03:32.657776Z",
     "shell.execute_reply.started": "2024-02-23T11:03:32.180594Z"
    }
   },
   "outputs": [
    {
     "name": "stderr",
     "output_type": "stream",
     "text": [
      "/opt/conda/lib/python3.10/site-packages/scipy/__init__.py:146: UserWarning: A NumPy version >=1.16.5 and <1.23.0 is required for this version of SciPy (detected version 1.23.5\n",
      "  warnings.warn(f\"A NumPy version >={np_minversion} and <{np_maxversion}\"\n"
     ]
    }
   ],
   "source": [
    "from sklearn.model_selection import train_test_split\n",
    "\n",
    "# разделение на тестовую и тренировочную выборки\n",
    "train_data, test_data = train_test_split(df, test_size=0.2, random_state=42)"
   ]
  },
  {
   "cell_type": "code",
   "execution_count": 10,
   "metadata": {
    "execution": {
     "iopub.execute_input": "2024-02-23T11:03:32.663239Z",
     "iopub.status.busy": "2024-02-23T11:03:32.662914Z",
     "iopub.status.idle": "2024-02-23T11:03:34.101077Z",
     "shell.execute_reply": "2024-02-23T11:03:34.100102Z",
     "shell.execute_reply.started": "2024-02-23T11:03:32.663216Z"
    }
   },
   "outputs": [
    {
     "name": "stdout",
     "output_type": "stream",
     "text": [
      "DatasetDict({\n",
      "    train: Dataset({\n",
      "        features: ['text', 'label', '__index_level_0__'],\n",
      "        num_rows: 117638\n",
      "    })\n",
      "    validation: Dataset({\n",
      "        features: ['text', 'label', '__index_level_0__'],\n",
      "        num_rows: 29410\n",
      "    })\n",
      "})\n"
     ]
    }
   ],
   "source": [
    "import datasets\n",
    "from datasets import Dataset, DatasetDict\n",
    "\n",
    "tds = Dataset.from_pandas(train_data)\n",
    "vds = Dataset.from_pandas(test_data)\n",
    "\n",
    "ds = DatasetDict()\n",
    "\n",
    "ds['train'] = tds\n",
    "ds['validation'] = vds\n",
    "\n",
    "print(ds)"
   ]
  },
  {
   "cell_type": "code",
   "execution_count": 11,
   "metadata": {
    "execution": {
     "iopub.execute_input": "2024-02-23T11:03:34.102673Z",
     "iopub.status.busy": "2024-02-23T11:03:34.102225Z",
     "iopub.status.idle": "2024-02-23T11:03:37.749008Z",
     "shell.execute_reply": "2024-02-23T11:03:37.748207Z",
     "shell.execute_reply.started": "2024-02-23T11:03:34.102647Z"
    }
   },
   "outputs": [
    {
     "data": {
      "application/vnd.jupyter.widget-view+json": {
       "model_id": "b2c2fb86f8334c89affdc7f59c19b0da",
       "version_major": 2,
       "version_minor": 0
      },
      "text/plain": [
       "Downloading tokenizer_config.json:   0%|          | 0.00/16.0 [00:00<?, ?B/s]"
      ]
     },
     "metadata": {},
     "output_type": "display_data"
    },
    {
     "data": {
      "application/vnd.jupyter.widget-view+json": {
       "model_id": "4ed2cdca8dd74f42a4b30b2faab45a73",
       "version_major": 2,
       "version_minor": 0
      },
      "text/plain": [
       "Downloading config.json:   0%|          | 0.00/481 [00:00<?, ?B/s]"
      ]
     },
     "metadata": {},
     "output_type": "display_data"
    },
    {
     "data": {
      "application/vnd.jupyter.widget-view+json": {
       "model_id": "0151415ed13a4f72a92ac5a3607d1749",
       "version_major": 2,
       "version_minor": 0
      },
      "text/plain": [
       "Downloading vocab.json:   0%|          | 0.00/1.68M [00:00<?, ?B/s]"
      ]
     },
     "metadata": {},
     "output_type": "display_data"
    },
    {
     "data": {
      "application/vnd.jupyter.widget-view+json": {
       "model_id": "595f6ce9dbad4fba8193692b80509316",
       "version_major": 2,
       "version_minor": 0
      },
      "text/plain": [
       "Downloading merges.txt:   0%|          | 0.00/1.34M [00:00<?, ?B/s]"
      ]
     },
     "metadata": {},
     "output_type": "display_data"
    },
    {
     "data": {
      "application/vnd.jupyter.widget-view+json": {
       "model_id": "1752984a8f50425e80a98a8ca5e9a9b1",
       "version_major": 2,
       "version_minor": 0
      },
      "text/plain": [
       "Downloading (…)cial_tokens_map.json:   0%|          | 0.00/150 [00:00<?, ?B/s]"
      ]
     },
     "metadata": {},
     "output_type": "display_data"
    }
   ],
   "source": [
    "# токенизатор для отзывов\n",
    "from transformers import AutoTokenizer\n",
    "\n",
    "tokenizer = AutoTokenizer.from_pretrained(\"blinoff/roberta-base-russian-v0\")"
   ]
  },
  {
   "cell_type": "code",
   "execution_count": 12,
   "metadata": {
    "execution": {
     "iopub.execute_input": "2024-02-23T11:03:37.750642Z",
     "iopub.status.busy": "2024-02-23T11:03:37.750145Z",
     "iopub.status.idle": "2024-02-23T11:03:37.755265Z",
     "shell.execute_reply": "2024-02-23T11:03:37.754262Z",
     "shell.execute_reply.started": "2024-02-23T11:03:37.750613Z"
    }
   },
   "outputs": [],
   "source": [
    "# переводим классы из строк в числа\n",
    "from datasets import ClassLabel\n",
    "\n",
    "labels = ClassLabel(num_classes = 3,names=[\"negative\", \"neutral\", \"positive\"])"
   ]
  },
  {
   "cell_type": "code",
   "execution_count": 13,
   "metadata": {
    "execution": {
     "iopub.execute_input": "2024-02-23T11:03:37.756723Z",
     "iopub.status.busy": "2024-02-23T11:03:37.756455Z",
     "iopub.status.idle": "2024-02-23T11:03:37.768045Z",
     "shell.execute_reply": "2024-02-23T11:03:37.767168Z",
     "shell.execute_reply.started": "2024-02-23T11:03:37.756699Z"
    }
   },
   "outputs": [],
   "source": [
    "def tokenize(batch):\n",
    "    tokens = tokenizer(batch['text'], padding=True, truncation=True)\n",
    "    tokens['label'] = labels.str2int(batch['label'])\n",
    "    return tokens"
   ]
  },
  {
   "cell_type": "code",
   "execution_count": 14,
   "metadata": {
    "execution": {
     "iopub.execute_input": "2024-02-23T11:03:37.769669Z",
     "iopub.status.busy": "2024-02-23T11:03:37.769278Z",
     "iopub.status.idle": "2024-02-23T11:03:44.253585Z",
     "shell.execute_reply": "2024-02-23T11:03:44.252754Z",
     "shell.execute_reply.started": "2024-02-23T11:03:37.769639Z"
    }
   },
   "outputs": [],
   "source": [
    "from transformers import DataCollatorWithPadding\n",
    "\n",
    "data_collator = DataCollatorWithPadding(tokenizer=tokenizer)"
   ]
  },
  {
   "cell_type": "code",
   "execution_count": 15,
   "metadata": {
    "execution": {
     "iopub.execute_input": "2024-02-23T11:03:44.255186Z",
     "iopub.status.busy": "2024-02-23T11:03:44.254655Z",
     "iopub.status.idle": "2024-02-23T11:04:40.110522Z",
     "shell.execute_reply": "2024-02-23T11:04:40.109707Z",
     "shell.execute_reply.started": "2024-02-23T11:03:44.255158Z"
    }
   },
   "outputs": [
    {
     "data": {
      "application/vnd.jupyter.widget-view+json": {
       "model_id": "ef81d3bc39834a76874b678a4dc16fae",
       "version_major": 2,
       "version_minor": 0
      },
      "text/plain": [
       "  0%|          | 0/118 [00:00<?, ?ba/s]"
      ]
     },
     "metadata": {},
     "output_type": "display_data"
    },
    {
     "data": {
      "application/vnd.jupyter.widget-view+json": {
       "model_id": "3bac10c0dc6e421db12c096d2317b989",
       "version_major": 2,
       "version_minor": 0
      },
      "text/plain": [
       "  0%|          | 0/30 [00:00<?, ?ba/s]"
      ]
     },
     "metadata": {},
     "output_type": "display_data"
    }
   ],
   "source": [
    "tokenized_corpus_train = tds.map(tokenize, batched=True)\n",
    "tokenized_corpus_test = vds.map(tokenize, batched=True)\n",
    "\n",
    "tokenized_corpus_train.set_format('torch', columns=['input_ids', 'attention_mask', 'label'])\n",
    "tokenized_corpus_test.set_format('torch', columns=['input_ids', 'attention_mask', 'label'])"
   ]
  },
  {
   "cell_type": "code",
   "execution_count": 16,
   "metadata": {
    "execution": {
     "iopub.execute_input": "2024-02-23T11:04:40.111868Z",
     "iopub.status.busy": "2024-02-23T11:04:40.111599Z",
     "iopub.status.idle": "2024-02-23T11:04:43.251876Z",
     "shell.execute_reply": "2024-02-23T11:04:43.251144Z",
     "shell.execute_reply.started": "2024-02-23T11:04:40.111845Z"
    }
   },
   "outputs": [
    {
     "data": {
      "application/vnd.jupyter.widget-view+json": {
       "model_id": "7760cd7d315344389bf4ca1c16fd12b1",
       "version_major": 2,
       "version_minor": 0
      },
      "text/plain": [
       "Downloading builder script:   0%|          | 0.00/4.20k [00:00<?, ?B/s]"
      ]
     },
     "metadata": {},
     "output_type": "display_data"
    }
   ],
   "source": [
    "import evaluate\n",
    "\n",
    "accuracy = evaluate.load(\"accuracy\")"
   ]
  },
  {
   "cell_type": "code",
   "execution_count": 17,
   "metadata": {
    "execution": {
     "iopub.execute_input": "2024-02-23T11:04:43.254351Z",
     "iopub.status.busy": "2024-02-23T11:04:43.253090Z",
     "iopub.status.idle": "2024-02-23T11:04:43.259516Z",
     "shell.execute_reply": "2024-02-23T11:04:43.258592Z",
     "shell.execute_reply.started": "2024-02-23T11:04:43.254317Z"
    }
   },
   "outputs": [],
   "source": [
    "import numpy as np\n",
    "\n",
    "def compute_metrics(eval_pred):\n",
    "    predictions, labels = eval_pred\n",
    "    predictions = np.argmax(predictions, axis=1)\n",
    "    return accuracy.compute(predictions=predictions, references=labels)"
   ]
  },
  {
   "cell_type": "code",
   "execution_count": 18,
   "metadata": {
    "execution": {
     "iopub.execute_input": "2024-02-23T11:04:43.261294Z",
     "iopub.status.busy": "2024-02-23T11:04:43.260933Z",
     "iopub.status.idle": "2024-02-23T11:04:43.280127Z",
     "shell.execute_reply": "2024-02-23T11:04:43.279213Z",
     "shell.execute_reply.started": "2024-02-23T11:04:43.261268Z"
    }
   },
   "outputs": [],
   "source": [
    "id2label = {0: \"negative\", 1: \"neutral\", 2: \"positive\"}\n",
    "label2id = {\"negative\": 0, \"neutral\": 1, \"positive\": 2}"
   ]
  },
  {
   "cell_type": "code",
   "execution_count": 19,
   "metadata": {
    "execution": {
     "iopub.execute_input": "2024-02-23T11:04:43.281553Z",
     "iopub.status.busy": "2024-02-23T11:04:43.281233Z",
     "iopub.status.idle": "2024-02-23T11:04:54.452011Z",
     "shell.execute_reply": "2024-02-23T11:04:54.451210Z",
     "shell.execute_reply.started": "2024-02-23T11:04:43.281528Z"
    }
   },
   "outputs": [
    {
     "data": {
      "application/vnd.jupyter.widget-view+json": {
       "model_id": "178f785f8e9e4b8383869c38fc7ecd6b",
       "version_major": 2,
       "version_minor": 0
      },
      "text/plain": [
       "Downloading model.safetensors:   0%|          | 0.00/500M [00:00<?, ?B/s]"
      ]
     },
     "metadata": {},
     "output_type": "display_data"
    },
    {
     "name": "stderr",
     "output_type": "stream",
     "text": [
      "Some weights of RobertaForSequenceClassification were not initialized from the model checkpoint at blinoff/roberta-base-russian-v0 and are newly initialized: ['classifier.out_proj.weight', 'classifier.dense.weight', 'classifier.dense.bias', 'classifier.out_proj.bias']\n",
      "You should probably TRAIN this model on a down-stream task to be able to use it for predictions and inference.\n"
     ]
    }
   ],
   "source": [
    "from transformers import AutoModelForSequenceClassification, TrainingArguments, Trainer\n",
    "\n",
    "model = AutoModelForSequenceClassification.from_pretrained(\n",
    "    \"blinoff/roberta-base-russian-v0\",\n",
    "    num_labels=3,\n",
    "    id2label=id2label,\n",
    "    label2id=label2id,\n",
    "    attention_probs_dropout_prob=0.1,\n",
    "    hidden_dropout_prob=0.1\n",
    ")"
   ]
  },
  {
   "cell_type": "code",
   "execution_count": 20,
   "metadata": {
    "execution": {
     "iopub.execute_input": "2024-02-23T11:04:54.453413Z",
     "iopub.status.busy": "2024-02-23T11:04:54.453134Z",
     "iopub.status.idle": "2024-02-23T11:04:54.457950Z",
     "shell.execute_reply": "2024-02-23T11:04:54.456781Z",
     "shell.execute_reply.started": "2024-02-23T11:04:54.453388Z"
    }
   },
   "outputs": [],
   "source": [
    "import os\n",
    "os.environ[\"WANDB_DISABLED\"] = \"true\""
   ]
  },
  {
   "cell_type": "code",
   "execution_count": 21,
   "metadata": {
    "execution": {
     "iopub.execute_input": "2024-02-23T11:04:54.459655Z",
     "iopub.status.busy": "2024-02-23T11:04:54.459283Z",
     "iopub.status.idle": "2024-02-23T16:28:41.884062Z",
     "shell.execute_reply": "2024-02-23T16:28:41.883112Z",
     "shell.execute_reply.started": "2024-02-23T11:04:54.459623Z"
    }
   },
   "outputs": [
    {
     "name": "stderr",
     "output_type": "stream",
     "text": [
      "Using the `WANDB_DISABLED` environment variable is deprecated and will be removed in v5. Use the --report_to flag to control the integrations used for logging result (for instance --report_to none).\n",
      "You're using a RobertaTokenizerFast tokenizer. Please note that with a fast tokenizer, using the `__call__` method is faster than using a method to encode the text followed by a call to the `pad` method to get a padded encoding.\n"
     ]
    },
    {
     "data": {
      "text/html": [
       "\n",
       "    <div>\n",
       "      \n",
       "      <progress value='44115' max='44115' style='width:300px; height:20px; vertical-align: middle;'></progress>\n",
       "      [44115/44115 5:23:44, Epoch 3/3]\n",
       "    </div>\n",
       "    <table border=\"1\" class=\"dataframe\">\n",
       "  <thead>\n",
       " <tr style=\"text-align: left;\">\n",
       "      <th>Step</th>\n",
       "      <th>Training Loss</th>\n",
       "    </tr>\n",
       "  </thead>\n",
       "  <tbody>\n",
       "    <tr>\n",
       "      <td>2000</td>\n",
       "      <td>0.715200</td>\n",
       "    </tr>\n",
       "    <tr>\n",
       "      <td>4000</td>\n",
       "      <td>0.602600</td>\n",
       "    </tr>\n",
       "    <tr>\n",
       "      <td>6000</td>\n",
       "      <td>0.573200</td>\n",
       "    </tr>\n",
       "    <tr>\n",
       "      <td>8000</td>\n",
       "      <td>0.563600</td>\n",
       "    </tr>\n",
       "    <tr>\n",
       "      <td>10000</td>\n",
       "      <td>0.539600</td>\n",
       "    </tr>\n",
       "    <tr>\n",
       "      <td>12000</td>\n",
       "      <td>0.537200</td>\n",
       "    </tr>\n",
       "    <tr>\n",
       "      <td>14000</td>\n",
       "      <td>0.529200</td>\n",
       "    </tr>\n",
       "    <tr>\n",
       "      <td>16000</td>\n",
       "      <td>0.485600</td>\n",
       "    </tr>\n",
       "    <tr>\n",
       "      <td>18000</td>\n",
       "      <td>0.465800</td>\n",
       "    </tr>\n",
       "    <tr>\n",
       "      <td>20000</td>\n",
       "      <td>0.466900</td>\n",
       "    </tr>\n",
       "    <tr>\n",
       "      <td>22000</td>\n",
       "      <td>0.465700</td>\n",
       "    </tr>\n",
       "    <tr>\n",
       "      <td>24000</td>\n",
       "      <td>0.466400</td>\n",
       "    </tr>\n",
       "    <tr>\n",
       "      <td>26000</td>\n",
       "      <td>0.458300</td>\n",
       "    </tr>\n",
       "    <tr>\n",
       "      <td>28000</td>\n",
       "      <td>0.453200</td>\n",
       "    </tr>\n",
       "    <tr>\n",
       "      <td>30000</td>\n",
       "      <td>0.429800</td>\n",
       "    </tr>\n",
       "    <tr>\n",
       "      <td>32000</td>\n",
       "      <td>0.404800</td>\n",
       "    </tr>\n",
       "    <tr>\n",
       "      <td>34000</td>\n",
       "      <td>0.407400</td>\n",
       "    </tr>\n",
       "    <tr>\n",
       "      <td>36000</td>\n",
       "      <td>0.398100</td>\n",
       "    </tr>\n",
       "    <tr>\n",
       "      <td>38000</td>\n",
       "      <td>0.406500</td>\n",
       "    </tr>\n",
       "    <tr>\n",
       "      <td>40000</td>\n",
       "      <td>0.401900</td>\n",
       "    </tr>\n",
       "    <tr>\n",
       "      <td>42000</td>\n",
       "      <td>0.396200</td>\n",
       "    </tr>\n",
       "    <tr>\n",
       "      <td>44000</td>\n",
       "      <td>0.380000</td>\n",
       "    </tr>\n",
       "  </tbody>\n",
       "</table><p>"
      ],
      "text/plain": [
       "<IPython.core.display.HTML object>"
      ]
     },
     "metadata": {},
     "output_type": "display_data"
    },
    {
     "data": {
      "text/plain": [
       "TrainOutput(global_step=44115, training_loss=0.47920149373289384, metrics={'train_runtime': 19425.5585, 'train_samples_per_second': 18.168, 'train_steps_per_second': 2.271, 'total_flos': 9.28564087040594e+16, 'train_loss': 0.47920149373289384, 'epoch': 3.0})"
      ]
     },
     "execution_count": 21,
     "metadata": {},
     "output_type": "execute_result"
    }
   ],
   "source": [
    "# Определение параметров тренировки и тренировка модели\n",
    "training_args = TrainingArguments(\n",
    "    report_to=None,\n",
    "    output_dir='./results',\n",
    "    num_train_epochs=3,\n",
    "    per_device_train_batch_size=8,\n",
    "    logging_dir='./logs',\n",
    "    save_steps = 4000,\n",
    "    save_total_limit = 10,\n",
    "    logging_steps=2000,\n",
    "    learning_rate=2e-5,\n",
    ")\n",
    "\n",
    "trainer = Trainer(\n",
    "    model=model,\n",
    "    args=training_args,\n",
    "    train_dataset=tokenized_corpus_train,\n",
    "    eval_dataset=tokenized_corpus_test,\n",
    "    tokenizer=tokenizer,\n",
    "    data_collator=data_collator,\n",
    "    compute_metrics=compute_metrics,\n",
    ")\n",
    "\n",
    "trainer.train()"
   ]
  },
  {
   "cell_type": "code",
   "execution_count": 25,
   "metadata": {
    "execution": {
     "iopub.execute_input": "2024-02-23T16:30:44.074819Z",
     "iopub.status.busy": "2024-02-23T16:30:44.074481Z",
     "iopub.status.idle": "2024-02-23T16:30:45.212917Z",
     "shell.execute_reply": "2024-02-23T16:30:45.211964Z",
     "shell.execute_reply.started": "2024-02-23T16:30:44.074794Z"
    }
   },
   "outputs": [],
   "source": [
    "trainer.save_model(\"/kaggle/working/rubert_fin\")"
   ]
  },
  {
   "cell_type": "code",
   "execution_count": 26,
   "metadata": {
    "execution": {
     "iopub.execute_input": "2024-02-23T16:31:32.103293Z",
     "iopub.status.busy": "2024-02-23T16:31:32.102391Z",
     "iopub.status.idle": "2024-02-23T16:31:32.108864Z",
     "shell.execute_reply": "2024-02-23T16:31:32.107977Z",
     "shell.execute_reply.started": "2024-02-23T16:31:32.103258Z"
    }
   },
   "outputs": [
    {
     "data": {
      "text/plain": [
       "<transformers.trainer.Trainer at 0x7dd56981bbe0>"
      ]
     },
     "execution_count": 26,
     "metadata": {},
     "output_type": "execute_result"
    }
   ],
   "source": [
    "trainer"
   ]
  }
 ],
 "metadata": {
  "kaggle": {
   "accelerator": "gpu",
   "dataSources": [
    {
     "datasetId": 4475005,
     "sourceId": 7672085,
     "sourceType": "datasetVersion"
    }
   ],
   "dockerImageVersionId": 30559,
   "isGpuEnabled": true,
   "isInternetEnabled": true,
   "language": "python",
   "sourceType": "notebook"
  },
  "kernelspec": {
   "display_name": "Python 3 (ipykernel)",
   "language": "python",
   "name": "python3"
  },
  "language_info": {
   "codemirror_mode": {
    "name": "ipython",
    "version": 3
   },
   "file_extension": ".py",
   "mimetype": "text/x-python",
   "name": "python",
   "nbconvert_exporter": "python",
   "pygments_lexer": "ipython3",
   "version": "3.10.5"
  }
 },
 "nbformat": 4,
 "nbformat_minor": 4
}
