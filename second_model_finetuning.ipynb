{
 "cells": [
  {
   "cell_type": "code",
   "execution_count": 1,
   "metadata": {
    "execution": {
     "iopub.execute_input": "2024-03-25T07:43:54.601299Z",
     "iopub.status.busy": "2024-03-25T07:43:54.600980Z",
     "iopub.status.idle": "2024-03-25T07:44:08.166299Z",
     "shell.execute_reply": "2024-03-25T07:44:08.165248Z",
     "shell.execute_reply.started": "2024-03-25T07:43:54.601273Z"
    }
   },
   "outputs": [
    {
     "name": "stdout",
     "output_type": "stream",
     "text": [
      "Requirement already satisfied: transformers in /opt/conda/lib/python3.10/site-packages (4.33.0)\n",
      "Collecting evaluate\n",
      "  Downloading evaluate-0.4.1-py3-none-any.whl (84 kB)\n",
      "\u001b[2K     \u001b[90m━━━━━━━━━━━━━━━━━━━━━━━━━━━━━━━━━━━━━━━━\u001b[0m \u001b[32m84.1/84.1 kB\u001b[0m \u001b[31m3.6 MB/s\u001b[0m eta \u001b[36m0:00:00\u001b[0m\n",
      "\u001b[?25hRequirement already satisfied: accelerate in /opt/conda/lib/python3.10/site-packages (0.22.0)\n",
      "Requirement already satisfied: datasets in /opt/conda/lib/python3.10/site-packages (2.1.0)\n",
      "Requirement already satisfied: filelock in /opt/conda/lib/python3.10/site-packages (from transformers) (3.12.2)\n",
      "Requirement already satisfied: huggingface-hub<1.0,>=0.15.1 in /opt/conda/lib/python3.10/site-packages (from transformers) (0.16.4)\n",
      "Requirement already satisfied: numpy>=1.17 in /opt/conda/lib/python3.10/site-packages (from transformers) (1.23.5)\n",
      "Requirement already satisfied: packaging>=20.0 in /opt/conda/lib/python3.10/site-packages (from transformers) (21.3)\n",
      "Requirement already satisfied: pyyaml>=5.1 in /opt/conda/lib/python3.10/site-packages (from transformers) (6.0)\n",
      "Requirement already satisfied: regex!=2019.12.17 in /opt/conda/lib/python3.10/site-packages (from transformers) (2023.6.3)\n",
      "Requirement already satisfied: requests in /opt/conda/lib/python3.10/site-packages (from transformers) (2.31.0)\n",
      "Requirement already satisfied: tokenizers!=0.11.3,<0.14,>=0.11.1 in /opt/conda/lib/python3.10/site-packages (from transformers) (0.13.3)\n",
      "Requirement already satisfied: safetensors>=0.3.1 in /opt/conda/lib/python3.10/site-packages (from transformers) (0.3.3)\n",
      "Requirement already satisfied: tqdm>=4.27 in /opt/conda/lib/python3.10/site-packages (from transformers) (4.66.1)\n",
      "Requirement already satisfied: dill in /opt/conda/lib/python3.10/site-packages (from evaluate) (0.3.7)\n",
      "Requirement already satisfied: pandas in /opt/conda/lib/python3.10/site-packages (from evaluate) (2.0.2)\n",
      "Requirement already satisfied: xxhash in /opt/conda/lib/python3.10/site-packages (from evaluate) (3.3.0)\n",
      "Requirement already satisfied: multiprocess in /opt/conda/lib/python3.10/site-packages (from evaluate) (0.70.15)\n",
      "Requirement already satisfied: fsspec[http]>=2021.05.0 in /opt/conda/lib/python3.10/site-packages (from evaluate) (2023.9.0)\n",
      "Requirement already satisfied: responses<0.19 in /opt/conda/lib/python3.10/site-packages (from evaluate) (0.18.0)\n",
      "Requirement already satisfied: psutil in /opt/conda/lib/python3.10/site-packages (from accelerate) (5.9.3)\n",
      "Requirement already satisfied: torch>=1.10.0 in /opt/conda/lib/python3.10/site-packages (from accelerate) (2.0.0)\n",
      "Requirement already satisfied: pyarrow>=5.0.0 in /opt/conda/lib/python3.10/site-packages (from datasets) (11.0.0)\n",
      "Requirement already satisfied: aiohttp in /opt/conda/lib/python3.10/site-packages (from datasets) (3.8.4)\n",
      "Requirement already satisfied: attrs>=17.3.0 in /opt/conda/lib/python3.10/site-packages (from aiohttp->datasets) (23.1.0)\n",
      "Requirement already satisfied: charset-normalizer<4.0,>=2.0 in /opt/conda/lib/python3.10/site-packages (from aiohttp->datasets) (3.1.0)\n",
      "Requirement already satisfied: multidict<7.0,>=4.5 in /opt/conda/lib/python3.10/site-packages (from aiohttp->datasets) (6.0.4)\n",
      "Requirement already satisfied: async-timeout<5.0,>=4.0.0a3 in /opt/conda/lib/python3.10/site-packages (from aiohttp->datasets) (4.0.2)\n",
      "Requirement already satisfied: yarl<2.0,>=1.0 in /opt/conda/lib/python3.10/site-packages (from aiohttp->datasets) (1.9.2)\n",
      "Requirement already satisfied: frozenlist>=1.1.1 in /opt/conda/lib/python3.10/site-packages (from aiohttp->datasets) (1.3.3)\n",
      "Requirement already satisfied: aiosignal>=1.1.2 in /opt/conda/lib/python3.10/site-packages (from aiohttp->datasets) (1.3.1)\n",
      "Requirement already satisfied: typing-extensions>=3.7.4.3 in /opt/conda/lib/python3.10/site-packages (from huggingface-hub<1.0,>=0.15.1->transformers) (4.6.3)\n",
      "Requirement already satisfied: pyparsing!=3.0.5,>=2.0.2 in /opt/conda/lib/python3.10/site-packages (from packaging>=20.0->transformers) (3.0.9)\n",
      "Requirement already satisfied: idna<4,>=2.5 in /opt/conda/lib/python3.10/site-packages (from requests->transformers) (3.4)\n",
      "Requirement already satisfied: urllib3<3,>=1.21.1 in /opt/conda/lib/python3.10/site-packages (from requests->transformers) (1.26.15)\n",
      "Requirement already satisfied: certifi>=2017.4.17 in /opt/conda/lib/python3.10/site-packages (from requests->transformers) (2023.7.22)\n",
      "Requirement already satisfied: sympy in /opt/conda/lib/python3.10/site-packages (from torch>=1.10.0->accelerate) (1.12)\n",
      "Requirement already satisfied: networkx in /opt/conda/lib/python3.10/site-packages (from torch>=1.10.0->accelerate) (3.1)\n",
      "Requirement already satisfied: jinja2 in /opt/conda/lib/python3.10/site-packages (from torch>=1.10.0->accelerate) (3.1.2)\n",
      "Requirement already satisfied: python-dateutil>=2.8.2 in /opt/conda/lib/python3.10/site-packages (from pandas->evaluate) (2.8.2)\n",
      "Requirement already satisfied: pytz>=2020.1 in /opt/conda/lib/python3.10/site-packages (from pandas->evaluate) (2023.3)\n",
      "Requirement already satisfied: tzdata>=2022.1 in /opt/conda/lib/python3.10/site-packages (from pandas->evaluate) (2023.3)\n",
      "Requirement already satisfied: six>=1.5 in /opt/conda/lib/python3.10/site-packages (from python-dateutil>=2.8.2->pandas->evaluate) (1.16.0)\n",
      "Requirement already satisfied: MarkupSafe>=2.0 in /opt/conda/lib/python3.10/site-packages (from jinja2->torch>=1.10.0->accelerate) (2.1.3)\n",
      "Requirement already satisfied: mpmath>=0.19 in /opt/conda/lib/python3.10/site-packages (from sympy->torch>=1.10.0->accelerate) (1.3.0)\n",
      "Installing collected packages: evaluate\n",
      "Successfully installed evaluate-0.4.1\n"
     ]
    }
   ],
   "source": [
    "!pip install transformers evaluate accelerate datasets"
   ]
  },
  {
   "cell_type": "code",
   "execution_count": 2,
   "metadata": {
    "execution": {
     "iopub.execute_input": "2024-03-25T07:44:08.169000Z",
     "iopub.status.busy": "2024-03-25T07:44:08.168685Z",
     "iopub.status.idle": "2024-03-25T07:44:11.119335Z",
     "shell.execute_reply": "2024-03-25T07:44:11.118468Z",
     "shell.execute_reply.started": "2024-03-25T07:44:08.168970Z"
    }
   },
   "outputs": [],
   "source": [
    "import torch\n",
    "\n",
    "device = torch.device('cuda' if torch.cuda.is_available() else 'cpu')"
   ]
  },
  {
   "cell_type": "code",
   "execution_count": 3,
   "metadata": {
    "execution": {
     "iopub.execute_input": "2024-03-25T07:44:11.120851Z",
     "iopub.status.busy": "2024-03-25T07:44:11.120453Z",
     "iopub.status.idle": "2024-03-25T07:44:11.127282Z",
     "shell.execute_reply": "2024-03-25T07:44:11.126457Z",
     "shell.execute_reply.started": "2024-03-25T07:44:11.120825Z"
    }
   },
   "outputs": [
    {
     "data": {
      "text/plain": [
       "device(type='cuda')"
      ]
     },
     "execution_count": 3,
     "metadata": {},
     "output_type": "execute_result"
    }
   ],
   "source": [
    "device"
   ]
  },
  {
   "cell_type": "code",
   "execution_count": 4,
   "metadata": {
    "execution": {
     "iopub.execute_input": "2024-03-25T07:44:11.128810Z",
     "iopub.status.busy": "2024-03-25T07:44:11.128531Z",
     "iopub.status.idle": "2024-03-25T07:44:11.555943Z",
     "shell.execute_reply": "2024-03-25T07:44:11.554939Z",
     "shell.execute_reply.started": "2024-03-25T07:44:11.128786Z"
    }
   },
   "outputs": [
    {
     "data": {
      "text/html": [
       "<div>\n",
       "<style scoped>\n",
       "    .dataframe tbody tr th:only-of-type {\n",
       "        vertical-align: middle;\n",
       "    }\n",
       "\n",
       "    .dataframe tbody tr th {\n",
       "        vertical-align: top;\n",
       "    }\n",
       "\n",
       "    .dataframe thead th {\n",
       "        text-align: right;\n",
       "    }\n",
       "</style>\n",
       "<table border=\"1\" class=\"dataframe\">\n",
       "  <thead>\n",
       "    <tr style=\"text-align: right;\">\n",
       "      <th></th>\n",
       "      <th>review</th>\n",
       "      <th>sentiment</th>\n",
       "    </tr>\n",
       "  </thead>\n",
       "  <tbody>\n",
       "    <tr>\n",
       "      <th>0</th>\n",
       "      <td>Неточность описания и полнейшее несовпадение п...</td>\n",
       "      <td>negative</td>\n",
       "    </tr>\n",
       "    <tr>\n",
       "      <th>1</th>\n",
       "      <td>Заказывала размер xl для Мамы, оказалась жутка...</td>\n",
       "      <td>negative</td>\n",
       "    </tr>\n",
       "    <tr>\n",
       "      <th>2</th>\n",
       "      <td>Плохой сервис, неудобная кровать, невнимательн...</td>\n",
       "      <td>mixed</td>\n",
       "    </tr>\n",
       "    <tr>\n",
       "      <th>3</th>\n",
       "      <td>очень тонкая,просвечивает</td>\n",
       "      <td>negative</td>\n",
       "    </tr>\n",
       "    <tr>\n",
       "      <th>4</th>\n",
       "      <td>Не понравились! Брала чёрные, на фото они плот...</td>\n",
       "      <td>negative</td>\n",
       "    </tr>\n",
       "    <tr>\n",
       "      <th>...</th>\n",
       "      <td>...</td>\n",
       "      <td>...</td>\n",
       "    </tr>\n",
       "    <tr>\n",
       "      <th>1466</th>\n",
       "      <td>не стоит она таких денег, нитки везде торчат.</td>\n",
       "      <td>negative</td>\n",
       "    </tr>\n",
       "    <tr>\n",
       "      <th>1467</th>\n",
       "      <td>Товар хороший, но шёл очень долго, я был очень...</td>\n",
       "      <td>mixed</td>\n",
       "    </tr>\n",
       "    <tr>\n",
       "      <th>1468</th>\n",
       "      <td>Очень жаркий материал!  просто очень!  когда м...</td>\n",
       "      <td>mixed</td>\n",
       "    </tr>\n",
       "    <tr>\n",
       "      <th>1469</th>\n",
       "      <td>очень короткая,  хоть размер l но длина чуть н...</td>\n",
       "      <td>negative</td>\n",
       "    </tr>\n",
       "    <tr>\n",
       "      <th>1470</th>\n",
       "      <td>Отличный цветной пацарапанный пластик</td>\n",
       "      <td>negative</td>\n",
       "    </tr>\n",
       "  </tbody>\n",
       "</table>\n",
       "<p>1471 rows × 2 columns</p>\n",
       "</div>"
      ],
      "text/plain": [
       "                                                 review sentiment\n",
       "0     Неточность описания и полнейшее несовпадение п...  negative\n",
       "1     Заказывала размер xl для Мамы, оказалась жутка...  negative\n",
       "2     Плохой сервис, неудобная кровать, невнимательн...     mixed\n",
       "3                             очень тонкая,просвечивает  negative\n",
       "4     Не понравились! Брала чёрные, на фото они плот...  negative\n",
       "...                                                 ...       ...\n",
       "1466      не стоит она таких денег, нитки везде торчат.  negative\n",
       "1467  Товар хороший, но шёл очень долго, я был очень...     mixed\n",
       "1468  Очень жаркий материал!  просто очень!  когда м...     mixed\n",
       "1469  очень короткая,  хоть размер l но длина чуть н...  negative\n",
       "1470              Отличный цветной пацарапанный пластик  negative\n",
       "\n",
       "[1471 rows x 2 columns]"
      ]
     },
     "execution_count": 4,
     "metadata": {},
     "output_type": "execute_result"
    }
   ],
   "source": [
    "import pandas as pd\n",
    "\n",
    "df =  pd.read_csv(\"/kaggle/input/reann-model-data/reann_model_data.csv\", index_col = False)\n",
    "df"
   ]
  },
  {
   "cell_type": "code",
   "execution_count": 6,
   "metadata": {
    "execution": {
     "iopub.execute_input": "2024-03-25T07:45:32.133452Z",
     "iopub.status.busy": "2024-03-25T07:45:32.133059Z",
     "iopub.status.idle": "2024-03-25T07:45:32.144433Z",
     "shell.execute_reply": "2024-03-25T07:45:32.143305Z",
     "shell.execute_reply.started": "2024-03-25T07:45:32.133422Z"
    }
   },
   "outputs": [
    {
     "data": {
      "text/plain": [
       "sentiment\n",
       "negative    879\n",
       "mixed       557\n",
       "del          18\n",
       "neutral      15\n",
       "Name: count, dtype: int64"
      ]
     },
     "execution_count": 6,
     "metadata": {},
     "output_type": "execute_result"
    }
   ],
   "source": [
    "df[\"sentiment\"].value_counts()"
   ]
  },
  {
   "cell_type": "code",
   "execution_count": 7,
   "metadata": {
    "execution": {
     "iopub.execute_input": "2024-03-25T07:46:49.511116Z",
     "iopub.status.busy": "2024-03-25T07:46:49.510706Z",
     "iopub.status.idle": "2024-03-25T07:46:49.523374Z",
     "shell.execute_reply": "2024-03-25T07:46:49.522251Z",
     "shell.execute_reply.started": "2024-03-25T07:46:49.511073Z"
    }
   },
   "outputs": [
    {
     "data": {
      "text/plain": [
       "sentiment\n",
       "negative    879\n",
       "mixed       557\n",
       "Name: count, dtype: int64"
      ]
     },
     "execution_count": 7,
     "metadata": {},
     "output_type": "execute_result"
    }
   ],
   "source": [
    "df = df.drop(df[df.sentiment == \"del\"].index)\n",
    "df = df.drop(df[df.sentiment == \"neutral\"].index)\n",
    "df[\"sentiment\"].value_counts()"
   ]
  },
  {
   "cell_type": "code",
   "execution_count": 8,
   "metadata": {
    "execution": {
     "iopub.execute_input": "2024-03-25T07:46:55.798461Z",
     "iopub.status.busy": "2024-03-25T07:46:55.797591Z",
     "iopub.status.idle": "2024-03-25T07:46:55.803952Z",
     "shell.execute_reply": "2024-03-25T07:46:55.803031Z",
     "shell.execute_reply.started": "2024-03-25T07:46:55.798423Z"
    }
   },
   "outputs": [],
   "source": [
    "df = df.rename(columns={'review': 'text', 'sentiment': 'label'})"
   ]
  },
  {
   "cell_type": "code",
   "execution_count": 9,
   "metadata": {
    "execution": {
     "iopub.execute_input": "2024-03-25T07:46:57.807377Z",
     "iopub.status.busy": "2024-03-25T07:46:57.806677Z",
     "iopub.status.idle": "2024-03-25T07:46:57.811385Z",
     "shell.execute_reply": "2024-03-25T07:46:57.810356Z",
     "shell.execute_reply.started": "2024-03-25T07:46:57.807345Z"
    }
   },
   "outputs": [],
   "source": [
    "import numpy as np"
   ]
  },
  {
   "cell_type": "code",
   "execution_count": 21,
   "metadata": {
    "execution": {
     "iopub.execute_input": "2024-03-25T07:50:53.062913Z",
     "iopub.status.busy": "2024-03-25T07:50:53.062414Z",
     "iopub.status.idle": "2024-03-25T07:50:53.072674Z",
     "shell.execute_reply": "2024-03-25T07:50:53.071538Z",
     "shell.execute_reply.started": "2024-03-25T07:50:53.062874Z"
    }
   },
   "outputs": [],
   "source": [
    "df['text'].replace('', np.nan, inplace=True)\n",
    "df = df.dropna()"
   ]
  },
  {
   "cell_type": "code",
   "execution_count": 22,
   "metadata": {
    "execution": {
     "iopub.execute_input": "2024-03-25T07:50:55.302832Z",
     "iopub.status.busy": "2024-03-25T07:50:55.302456Z",
     "iopub.status.idle": "2024-03-25T07:50:55.314619Z",
     "shell.execute_reply": "2024-03-25T07:50:55.313531Z",
     "shell.execute_reply.started": "2024-03-25T07:50:55.302802Z"
    }
   },
   "outputs": [
    {
     "data": {
      "text/html": [
       "<div>\n",
       "<style scoped>\n",
       "    .dataframe tbody tr th:only-of-type {\n",
       "        vertical-align: middle;\n",
       "    }\n",
       "\n",
       "    .dataframe tbody tr th {\n",
       "        vertical-align: top;\n",
       "    }\n",
       "\n",
       "    .dataframe thead th {\n",
       "        text-align: right;\n",
       "    }\n",
       "</style>\n",
       "<table border=\"1\" class=\"dataframe\">\n",
       "  <thead>\n",
       "    <tr style=\"text-align: right;\">\n",
       "      <th></th>\n",
       "      <th>text</th>\n",
       "      <th>label</th>\n",
       "    </tr>\n",
       "  </thead>\n",
       "  <tbody>\n",
       "    <tr>\n",
       "      <th>0</th>\n",
       "      <td>Неточность описания и полнейшее несовпадение п...</td>\n",
       "      <td>negative</td>\n",
       "    </tr>\n",
       "    <tr>\n",
       "      <th>1</th>\n",
       "      <td>Заказывала размер xl для Мамы, оказалась жутка...</td>\n",
       "      <td>negative</td>\n",
       "    </tr>\n",
       "    <tr>\n",
       "      <th>2</th>\n",
       "      <td>Плохой сервис, неудобная кровать, невнимательн...</td>\n",
       "      <td>mixed</td>\n",
       "    </tr>\n",
       "    <tr>\n",
       "      <th>3</th>\n",
       "      <td>очень тонкая,просвечивает</td>\n",
       "      <td>negative</td>\n",
       "    </tr>\n",
       "    <tr>\n",
       "      <th>4</th>\n",
       "      <td>Не понравились! Брала чёрные, на фото они плот...</td>\n",
       "      <td>negative</td>\n",
       "    </tr>\n",
       "    <tr>\n",
       "      <th>...</th>\n",
       "      <td>...</td>\n",
       "      <td>...</td>\n",
       "    </tr>\n",
       "    <tr>\n",
       "      <th>1466</th>\n",
       "      <td>не стоит она таких денег, нитки везде торчат.</td>\n",
       "      <td>negative</td>\n",
       "    </tr>\n",
       "    <tr>\n",
       "      <th>1467</th>\n",
       "      <td>Товар хороший, но шёл очень долго, я был очень...</td>\n",
       "      <td>mixed</td>\n",
       "    </tr>\n",
       "    <tr>\n",
       "      <th>1468</th>\n",
       "      <td>Очень жаркий материал!  просто очень!  когда м...</td>\n",
       "      <td>mixed</td>\n",
       "    </tr>\n",
       "    <tr>\n",
       "      <th>1469</th>\n",
       "      <td>очень короткая,  хоть размер l но длина чуть н...</td>\n",
       "      <td>negative</td>\n",
       "    </tr>\n",
       "    <tr>\n",
       "      <th>1470</th>\n",
       "      <td>Отличный цветной пацарапанный пластик</td>\n",
       "      <td>negative</td>\n",
       "    </tr>\n",
       "  </tbody>\n",
       "</table>\n",
       "<p>1436 rows × 2 columns</p>\n",
       "</div>"
      ],
      "text/plain": [
       "                                                   text     label\n",
       "0     Неточность описания и полнейшее несовпадение п...  negative\n",
       "1     Заказывала размер xl для Мамы, оказалась жутка...  negative\n",
       "2     Плохой сервис, неудобная кровать, невнимательн...     mixed\n",
       "3                             очень тонкая,просвечивает  negative\n",
       "4     Не понравились! Брала чёрные, на фото они плот...  negative\n",
       "...                                                 ...       ...\n",
       "1466      не стоит она таких денег, нитки везде торчат.  negative\n",
       "1467  Товар хороший, но шёл очень долго, я был очень...     mixed\n",
       "1468  Очень жаркий материал!  просто очень!  когда м...     mixed\n",
       "1469  очень короткая,  хоть размер l но длина чуть н...  negative\n",
       "1470              Отличный цветной пацарапанный пластик  negative\n",
       "\n",
       "[1436 rows x 2 columns]"
      ]
     },
     "execution_count": 22,
     "metadata": {},
     "output_type": "execute_result"
    }
   ],
   "source": [
    "df"
   ]
  },
  {
   "cell_type": "code",
   "execution_count": 23,
   "metadata": {
    "execution": {
     "iopub.execute_input": "2024-03-25T07:50:58.386464Z",
     "iopub.status.busy": "2024-03-25T07:50:58.386041Z",
     "iopub.status.idle": "2024-03-25T07:50:58.393394Z",
     "shell.execute_reply": "2024-03-25T07:50:58.392356Z",
     "shell.execute_reply.started": "2024-03-25T07:50:58.386433Z"
    }
   },
   "outputs": [],
   "source": [
    "from sklearn.model_selection import train_test_split\n",
    "\n",
    "# разделение на тестовую и тренировочную выборки\n",
    "train_data, test_data = train_test_split(df, test_size=0.1, random_state=42)"
   ]
  },
  {
   "cell_type": "code",
   "execution_count": 24,
   "metadata": {
    "execution": {
     "iopub.execute_input": "2024-03-25T07:51:00.888860Z",
     "iopub.status.busy": "2024-03-25T07:51:00.888405Z",
     "iopub.status.idle": "2024-03-25T07:51:00.902536Z",
     "shell.execute_reply": "2024-03-25T07:51:00.901442Z",
     "shell.execute_reply.started": "2024-03-25T07:51:00.888829Z"
    }
   },
   "outputs": [
    {
     "name": "stdout",
     "output_type": "stream",
     "text": [
      "DatasetDict({\n",
      "    train: Dataset({\n",
      "        features: ['text', 'label', '__index_level_0__'],\n",
      "        num_rows: 1292\n",
      "    })\n",
      "    validation: Dataset({\n",
      "        features: ['text', 'label', '__index_level_0__'],\n",
      "        num_rows: 144\n",
      "    })\n",
      "})\n"
     ]
    }
   ],
   "source": [
    "import datasets\n",
    "from datasets import Dataset, DatasetDict\n",
    "\n",
    "tds = Dataset.from_pandas(train_data)\n",
    "vds = Dataset.from_pandas(test_data)\n",
    "\n",
    "ds = DatasetDict()\n",
    "\n",
    "ds['train'] = tds\n",
    "ds['validation'] = vds\n",
    "\n",
    "print(ds)"
   ]
  },
  {
   "cell_type": "code",
   "execution_count": 14,
   "metadata": {
    "execution": {
     "iopub.execute_input": "2024-03-25T07:47:37.842777Z",
     "iopub.status.busy": "2024-03-25T07:47:37.842234Z",
     "iopub.status.idle": "2024-03-25T07:47:41.533407Z",
     "shell.execute_reply": "2024-03-25T07:47:41.532335Z",
     "shell.execute_reply.started": "2024-03-25T07:47:37.842747Z"
    }
   },
   "outputs": [
    {
     "data": {
      "application/vnd.jupyter.widget-view+json": {
       "model_id": "98a4b8804563426290c4a12097aefac1",
       "version_major": 2,
       "version_minor": 0
      },
      "text/plain": [
       "Downloading tokenizer_config.json:   0%|          | 0.00/16.0 [00:00<?, ?B/s]"
      ]
     },
     "metadata": {},
     "output_type": "display_data"
    },
    {
     "data": {
      "application/vnd.jupyter.widget-view+json": {
       "model_id": "8fe49a4c7316466b8394502fbc6f9a91",
       "version_major": 2,
       "version_minor": 0
      },
      "text/plain": [
       "Downloading config.json:   0%|          | 0.00/481 [00:00<?, ?B/s]"
      ]
     },
     "metadata": {},
     "output_type": "display_data"
    },
    {
     "data": {
      "application/vnd.jupyter.widget-view+json": {
       "model_id": "e3c8e94b9f68415bac3b79c13e11ca16",
       "version_major": 2,
       "version_minor": 0
      },
      "text/plain": [
       "Downloading vocab.json:   0%|          | 0.00/1.68M [00:00<?, ?B/s]"
      ]
     },
     "metadata": {},
     "output_type": "display_data"
    },
    {
     "data": {
      "application/vnd.jupyter.widget-view+json": {
       "model_id": "ac28dba2bf284c9a8c9232c59585aad0",
       "version_major": 2,
       "version_minor": 0
      },
      "text/plain": [
       "Downloading merges.txt:   0%|          | 0.00/1.34M [00:00<?, ?B/s]"
      ]
     },
     "metadata": {},
     "output_type": "display_data"
    },
    {
     "data": {
      "application/vnd.jupyter.widget-view+json": {
       "model_id": "147de9ea36e94f6d9a99eb187c7b15a4",
       "version_major": 2,
       "version_minor": 0
      },
      "text/plain": [
       "Downloading (…)cial_tokens_map.json:   0%|          | 0.00/150 [00:00<?, ?B/s]"
      ]
     },
     "metadata": {},
     "output_type": "display_data"
    }
   ],
   "source": [
    "# токенизатор для отзывов\n",
    "from transformers import AutoTokenizer\n",
    "\n",
    "tokenizer = AutoTokenizer.from_pretrained(\"blinoff/roberta-base-russian-v0\")"
   ]
  },
  {
   "cell_type": "code",
   "execution_count": 15,
   "metadata": {
    "execution": {
     "iopub.execute_input": "2024-03-25T07:47:57.013268Z",
     "iopub.status.busy": "2024-03-25T07:47:57.012177Z",
     "iopub.status.idle": "2024-03-25T07:47:57.017859Z",
     "shell.execute_reply": "2024-03-25T07:47:57.016742Z",
     "shell.execute_reply.started": "2024-03-25T07:47:57.013230Z"
    }
   },
   "outputs": [],
   "source": [
    "# переводим классы из строк в числа\n",
    "from datasets import ClassLabel\n",
    "\n",
    "labels = ClassLabel(num_classes = 2,names=[\"negative\", \"mixed\"])"
   ]
  },
  {
   "cell_type": "code",
   "execution_count": 16,
   "metadata": {
    "execution": {
     "iopub.execute_input": "2024-03-25T07:47:59.638287Z",
     "iopub.status.busy": "2024-03-25T07:47:59.637783Z",
     "iopub.status.idle": "2024-03-25T07:47:59.643826Z",
     "shell.execute_reply": "2024-03-25T07:47:59.642794Z",
     "shell.execute_reply.started": "2024-03-25T07:47:59.638243Z"
    }
   },
   "outputs": [],
   "source": [
    "def tokenize(batch):\n",
    "    tokens = tokenizer(batch['text'], padding=True, truncation=True)\n",
    "    tokens['label'] = labels.str2int(batch['label'])\n",
    "    return tokens"
   ]
  },
  {
   "cell_type": "code",
   "execution_count": 17,
   "metadata": {
    "execution": {
     "iopub.execute_input": "2024-03-25T07:48:01.732120Z",
     "iopub.status.busy": "2024-03-25T07:48:01.731363Z",
     "iopub.status.idle": "2024-03-25T07:48:08.523264Z",
     "shell.execute_reply": "2024-03-25T07:48:08.522240Z",
     "shell.execute_reply.started": "2024-03-25T07:48:01.732080Z"
    }
   },
   "outputs": [],
   "source": [
    "from transformers import DataCollatorWithPadding\n",
    "\n",
    "data_collator = DataCollatorWithPadding(tokenizer=tokenizer)"
   ]
  },
  {
   "cell_type": "code",
   "execution_count": 25,
   "metadata": {
    "execution": {
     "iopub.execute_input": "2024-03-25T07:51:07.722064Z",
     "iopub.status.busy": "2024-03-25T07:51:07.721693Z",
     "iopub.status.idle": "2024-03-25T07:51:08.330600Z",
     "shell.execute_reply": "2024-03-25T07:51:08.329638Z",
     "shell.execute_reply.started": "2024-03-25T07:51:07.722034Z"
    }
   },
   "outputs": [
    {
     "data": {
      "application/vnd.jupyter.widget-view+json": {
       "model_id": "545d6585444341f681f06d31cb56750d",
       "version_major": 2,
       "version_minor": 0
      },
      "text/plain": [
       "  0%|          | 0/2 [00:00<?, ?ba/s]"
      ]
     },
     "metadata": {},
     "output_type": "display_data"
    },
    {
     "data": {
      "application/vnd.jupyter.widget-view+json": {
       "model_id": "ca8d1d4e0a9b4e9991943e72b1e9b4a9",
       "version_major": 2,
       "version_minor": 0
      },
      "text/plain": [
       "  0%|          | 0/1 [00:00<?, ?ba/s]"
      ]
     },
     "metadata": {},
     "output_type": "display_data"
    }
   ],
   "source": [
    "tokenized_corpus_train = tds.map(tokenize, batched=True)\n",
    "tokenized_corpus_test = vds.map(tokenize, batched=True)\n",
    "\n",
    "tokenized_corpus_train.set_format('torch', columns=['input_ids', 'attention_mask', 'label'])\n",
    "tokenized_corpus_test.set_format('torch', columns=['input_ids', 'attention_mask', 'label'])"
   ]
  },
  {
   "cell_type": "code",
   "execution_count": 54,
   "metadata": {
    "execution": {
     "iopub.execute_input": "2024-03-25T08:12:08.130487Z",
     "iopub.status.busy": "2024-03-25T08:12:08.129686Z",
     "iopub.status.idle": "2024-03-25T08:12:08.892762Z",
     "shell.execute_reply": "2024-03-25T08:12:08.891834Z",
     "shell.execute_reply.started": "2024-03-25T08:12:08.130452Z"
    }
   },
   "outputs": [
    {
     "data": {
      "application/vnd.jupyter.widget-view+json": {
       "model_id": "5c10a336469f41d8864e94c6693ad6c9",
       "version_major": 2,
       "version_minor": 0
      },
      "text/plain": [
       "Downloading builder script:   0%|          | 0.00/6.77k [00:00<?, ?B/s]"
      ]
     },
     "metadata": {},
     "output_type": "display_data"
    }
   ],
   "source": [
    "import evaluate\n",
    "\n",
    "accuracy = evaluate.load(\"f1\")"
   ]
  },
  {
   "cell_type": "code",
   "execution_count": 27,
   "metadata": {
    "execution": {
     "iopub.execute_input": "2024-03-25T07:51:39.093992Z",
     "iopub.status.busy": "2024-03-25T07:51:39.093182Z",
     "iopub.status.idle": "2024-03-25T07:51:39.099289Z",
     "shell.execute_reply": "2024-03-25T07:51:39.098354Z",
     "shell.execute_reply.started": "2024-03-25T07:51:39.093959Z"
    }
   },
   "outputs": [],
   "source": [
    "import numpy as np\n",
    "\n",
    "def compute_metrics(eval_pred):\n",
    "    predictions, labels = eval_pred\n",
    "    predictions = np.argmax(predictions, axis=1)\n",
    "    return accuracy.compute(predictions=predictions, references=labels)"
   ]
  },
  {
   "cell_type": "code",
   "execution_count": 28,
   "metadata": {
    "execution": {
     "iopub.execute_input": "2024-03-25T07:52:13.331930Z",
     "iopub.status.busy": "2024-03-25T07:52:13.331139Z",
     "iopub.status.idle": "2024-03-25T07:52:13.336594Z",
     "shell.execute_reply": "2024-03-25T07:52:13.335621Z",
     "shell.execute_reply.started": "2024-03-25T07:52:13.331898Z"
    }
   },
   "outputs": [],
   "source": [
    "# id2label = {0: \"negative\", 1: \"neutral\", 2: \"positive\", 3: \"mixed\"}\n",
    "# label2id = {\"negative\": 0, \"neutral\": 1, \"positive\": 2, \"mixed\": 3}\n",
    "id2label = {0: \"negative\", 1: \"mixed\"}\n",
    "label2id = {\"negative\": 0, \"mixed\": 1}"
   ]
  },
  {
   "cell_type": "code",
   "execution_count": 55,
   "metadata": {
    "execution": {
     "iopub.execute_input": "2024-03-25T08:12:14.151778Z",
     "iopub.status.busy": "2024-03-25T08:12:14.151406Z",
     "iopub.status.idle": "2024-03-25T08:12:15.440523Z",
     "shell.execute_reply": "2024-03-25T08:12:15.439691Z",
     "shell.execute_reply.started": "2024-03-25T08:12:14.151746Z"
    }
   },
   "outputs": [
    {
     "name": "stderr",
     "output_type": "stream",
     "text": [
      "Some weights of RobertaForSequenceClassification were not initialized from the model checkpoint at blinoff/roberta-base-russian-v0 and are newly initialized: ['classifier.out_proj.weight', 'classifier.out_proj.bias', 'classifier.dense.weight', 'classifier.dense.bias']\n",
      "You should probably TRAIN this model on a down-stream task to be able to use it for predictions and inference.\n"
     ]
    }
   ],
   "source": [
    "from transformers import AutoModelForSequenceClassification, TrainingArguments, Trainer\n",
    "\n",
    "model = AutoModelForSequenceClassification.from_pretrained(\n",
    "    \"blinoff/roberta-base-russian-v0\",\n",
    "    num_labels=2,\n",
    "    id2label=id2label,\n",
    "    label2id=label2id,\n",
    "    attention_probs_dropout_prob=0.1,\n",
    "    hidden_dropout_prob=0.1\n",
    ")"
   ]
  },
  {
   "cell_type": "code",
   "execution_count": 32,
   "metadata": {
    "execution": {
     "iopub.execute_input": "2024-03-25T07:53:14.819356Z",
     "iopub.status.busy": "2024-03-25T07:53:14.818965Z",
     "iopub.status.idle": "2024-03-25T07:53:14.823969Z",
     "shell.execute_reply": "2024-03-25T07:53:14.823018Z",
     "shell.execute_reply.started": "2024-03-25T07:53:14.819325Z"
    }
   },
   "outputs": [],
   "source": [
    "import os\n",
    "os.environ[\"WANDB_DISABLED\"] = \"true\""
   ]
  },
  {
   "cell_type": "code",
   "execution_count": 56,
   "metadata": {
    "execution": {
     "iopub.execute_input": "2024-03-25T08:12:19.576237Z",
     "iopub.status.busy": "2024-03-25T08:12:19.575554Z",
     "iopub.status.idle": "2024-03-25T08:16:20.045861Z",
     "shell.execute_reply": "2024-03-25T08:16:20.044981Z",
     "shell.execute_reply.started": "2024-03-25T08:12:19.576201Z"
    }
   },
   "outputs": [
    {
     "name": "stderr",
     "output_type": "stream",
     "text": [
      "Using the `WANDB_DISABLED` environment variable is deprecated and will be removed in v5. Use the --report_to flag to control the integrations used for logging result (for instance --report_to none).\n"
     ]
    },
    {
     "data": {
      "text/html": [
       "\n",
       "    <div>\n",
       "      \n",
       "      <progress value='486' max='486' style='width:300px; height:20px; vertical-align: middle;'></progress>\n",
       "      [486/486 03:59, Epoch 3/3]\n",
       "    </div>\n",
       "    <table border=\"1\" class=\"dataframe\">\n",
       "  <thead>\n",
       " <tr style=\"text-align: left;\">\n",
       "      <th>Step</th>\n",
       "      <th>Training Loss</th>\n",
       "      <th>Validation Loss</th>\n",
       "      <th>F1</th>\n",
       "    </tr>\n",
       "  </thead>\n",
       "  <tbody>\n",
       "    <tr>\n",
       "      <td>60</td>\n",
       "      <td>0.569800</td>\n",
       "      <td>0.504535</td>\n",
       "      <td>0.534884</td>\n",
       "    </tr>\n",
       "    <tr>\n",
       "      <td>120</td>\n",
       "      <td>0.566600</td>\n",
       "      <td>0.500638</td>\n",
       "      <td>0.688525</td>\n",
       "    </tr>\n",
       "    <tr>\n",
       "      <td>180</td>\n",
       "      <td>0.495600</td>\n",
       "      <td>0.547464</td>\n",
       "      <td>0.689655</td>\n",
       "    </tr>\n",
       "    <tr>\n",
       "      <td>240</td>\n",
       "      <td>0.412200</td>\n",
       "      <td>0.445392</td>\n",
       "      <td>0.744681</td>\n",
       "    </tr>\n",
       "    <tr>\n",
       "      <td>300</td>\n",
       "      <td>0.429100</td>\n",
       "      <td>0.392228</td>\n",
       "      <td>0.761905</td>\n",
       "    </tr>\n",
       "    <tr>\n",
       "      <td>360</td>\n",
       "      <td>0.366500</td>\n",
       "      <td>0.358674</td>\n",
       "      <td>0.816327</td>\n",
       "    </tr>\n",
       "    <tr>\n",
       "      <td>420</td>\n",
       "      <td>0.303100</td>\n",
       "      <td>0.367240</td>\n",
       "      <td>0.759259</td>\n",
       "    </tr>\n",
       "    <tr>\n",
       "      <td>480</td>\n",
       "      <td>0.259200</td>\n",
       "      <td>0.344861</td>\n",
       "      <td>0.776699</td>\n",
       "    </tr>\n",
       "  </tbody>\n",
       "</table><p>"
      ],
      "text/plain": [
       "<IPython.core.display.HTML object>"
      ]
     },
     "metadata": {},
     "output_type": "display_data"
    },
    {
     "data": {
      "text/plain": [
       "TrainOutput(global_step=486, training_loss=0.42252238248110796, metrics={'train_runtime': 239.6813, 'train_samples_per_second': 16.171, 'train_steps_per_second': 2.028, 'total_flos': 1019818450575360.0, 'train_loss': 0.42252238248110796, 'epoch': 3.0})"
      ]
     },
     "execution_count": 56,
     "metadata": {},
     "output_type": "execute_result"
    }
   ],
   "source": [
    "# Определение параметров тренировки и тренировка модели\n",
    "training_args = TrainingArguments(\n",
    "    report_to=None,\n",
    "    output_dir='./results',\n",
    "    num_train_epochs=3,\n",
    "    per_device_train_batch_size=8,\n",
    "    logging_dir='./logs',\n",
    "    evaluation_strategy = \"steps\",\n",
    "    save_steps = 200,\n",
    "    save_total_limit = 5,\n",
    "    logging_steps=60,\n",
    "    learning_rate=2e-5,\n",
    ")\n",
    "\n",
    "trainer = Trainer(\n",
    "    model=model,\n",
    "    args=training_args,\n",
    "    train_dataset=tokenized_corpus_train,\n",
    "    eval_dataset=tokenized_corpus_test,\n",
    "    tokenizer=tokenizer,\n",
    "    data_collator=data_collator,\n",
    "    compute_metrics=compute_metrics,\n",
    ")\n",
    "\n",
    "trainer.train()"
   ]
  },
  {
   "cell_type": "code",
   "execution_count": 57,
   "metadata": {
    "execution": {
     "iopub.execute_input": "2024-03-25T08:16:27.928236Z",
     "iopub.status.busy": "2024-03-25T08:16:27.927826Z",
     "iopub.status.idle": "2024-03-25T08:16:28.916751Z",
     "shell.execute_reply": "2024-03-25T08:16:28.915921Z",
     "shell.execute_reply.started": "2024-03-25T08:16:27.928204Z"
    }
   },
   "outputs": [],
   "source": [
    "trainer.save_model(\"/kaggle/working/reann_model\")"
   ]
  },
  {
   "cell_type": "markdown",
   "metadata": {},
   "source": [
    "# F1-score evaluation on test dataset"
   ]
  },
  {
   "cell_type": "code",
   "execution_count": 37,
   "metadata": {
    "execution": {
     "iopub.execute_input": "2024-03-25T08:03:17.888313Z",
     "iopub.status.busy": "2024-03-25T08:03:17.887554Z",
     "iopub.status.idle": "2024-03-25T08:03:17.966168Z",
     "shell.execute_reply": "2024-03-25T08:03:17.965292Z",
     "shell.execute_reply.started": "2024-03-25T08:03:17.888274Z"
    }
   },
   "outputs": [],
   "source": [
    "from transformers import pipeline\n",
    "from tqdm.notebook import tqdm\n",
    "\n",
    "sa = pipeline(task='sentiment-analysis', model = model, tokenizer = tokenizer, max_length=512, truncation=True, device = 0)\n",
    "pred = []"
   ]
  },
  {
   "cell_type": "code",
   "execution_count": 62,
   "metadata": {
    "execution": {
     "iopub.execute_input": "2024-03-25T08:17:10.666421Z",
     "iopub.status.busy": "2024-03-25T08:17:10.666029Z",
     "iopub.status.idle": "2024-03-25T08:17:10.671046Z",
     "shell.execute_reply": "2024-03-25T08:17:10.670092Z",
     "shell.execute_reply.started": "2024-03-25T08:17:10.666393Z"
    }
   },
   "outputs": [],
   "source": [
    "test_data_list = test_data[\"text\"].to_list()"
   ]
  },
  {
   "cell_type": "code",
   "execution_count": null,
   "metadata": {},
   "outputs": [],
   "source": [
    "for sentence in tqdm(test_data_list):\n",
    "    out = sa(sentence)\n",
    "    pred.append(out)"
   ]
  },
  {
   "cell_type": "code",
   "execution_count": null,
   "metadata": {},
   "outputs": [],
   "source": [
    "# сохраняю тексты и предсказания в файл\n",
    "dic = {'text':test_data_list, 'label':pred}\n",
    "output_df = pd.DataFrame(dic)\n",
    "output_df.to_csv('sec_model_output.tsv', sep = '\\t')"
   ]
  },
  {
   "cell_type": "code",
   "execution_count": null,
   "metadata": {},
   "outputs": [],
   "source": [
    "# оставляю от предсказаний только label (до этого было то, что возвращала модель, типа \"[{'label': 'neutral', 'score': 0.7671204209327698}]\")\n",
    "pred_for_f1 = []\n",
    "for i in output_df['label']:\n",
    "  #l = i[0]\n",
    "  pred_for_f1.append(i[0]['label'])\n",
    "pred_for_f1[:10]"
   ]
  },
  {
   "cell_type": "code",
   "execution_count": null,
   "metadata": {},
   "outputs": [],
   "source": [
    "target = list(test_data['label'])"
   ]
  },
  {
   "cell_type": "code",
   "execution_count": 76,
   "metadata": {
    "execution": {
     "iopub.execute_input": "2024-03-25T08:30:01.133858Z",
     "iopub.status.busy": "2024-03-25T08:30:01.133465Z",
     "iopub.status.idle": "2024-03-25T08:30:01.145211Z",
     "shell.execute_reply": "2024-03-25T08:30:01.144189Z",
     "shell.execute_reply.started": "2024-03-25T08:30:01.133828Z"
    }
   },
   "outputs": [
    {
     "data": {
      "text/plain": [
       "array([0.79166667, 0.89583333])"
      ]
     },
     "execution_count": 76,
     "metadata": {},
     "output_type": "execute_result"
    }
   ],
   "source": [
    "from sklearn.metrics import f1_score\n",
    "f1 = f1_score(target, pred_for_f1, average=None)\n",
    "f1"
   ]
  },
  {
   "cell_type": "markdown",
   "metadata": {},
   "source": [
    "# Reannotation"
   ]
  },
  {
   "cell_type": "code",
   "execution_count": 80,
   "metadata": {
    "execution": {
     "iopub.execute_input": "2024-03-25T08:31:11.128858Z",
     "iopub.status.busy": "2024-03-25T08:31:11.128215Z",
     "iopub.status.idle": "2024-03-25T08:31:11.173465Z",
     "shell.execute_reply": "2024-03-25T08:31:11.172573Z",
     "shell.execute_reply.started": "2024-03-25T08:31:11.128824Z"
    }
   },
   "outputs": [],
   "source": [
    "reann_df = pd.read_csv(\"/kaggle/input/reann-neg/4secondmodel_1.tsv\", sep=\"\\t\", index_col = False)"
   ]
  },
  {
   "cell_type": "code",
   "execution_count": 81,
   "metadata": {
    "execution": {
     "iopub.execute_input": "2024-03-25T08:31:29.004408Z",
     "iopub.status.busy": "2024-03-25T08:31:29.003671Z",
     "iopub.status.idle": "2024-03-25T08:31:29.014742Z",
     "shell.execute_reply": "2024-03-25T08:31:29.013787Z",
     "shell.execute_reply.started": "2024-03-25T08:31:29.004374Z"
    }
   },
   "outputs": [],
   "source": [
    "reann_df['text'].replace('', np.nan, inplace=True)\n",
    "reann_df = reann_df.dropna().drop([\"Unnamed: 0\", \"target\"], axis = 1)"
   ]
  },
  {
   "cell_type": "code",
   "execution_count": 82,
   "metadata": {
    "execution": {
     "iopub.execute_input": "2024-03-25T08:31:31.135996Z",
     "iopub.status.busy": "2024-03-25T08:31:31.134969Z",
     "iopub.status.idle": "2024-03-25T08:31:31.147151Z",
     "shell.execute_reply": "2024-03-25T08:31:31.146108Z",
     "shell.execute_reply.started": "2024-03-25T08:31:31.135961Z"
    }
   },
   "outputs": [
    {
     "data": {
      "text/html": [
       "<div>\n",
       "<style scoped>\n",
       "    .dataframe tbody tr th:only-of-type {\n",
       "        vertical-align: middle;\n",
       "    }\n",
       "\n",
       "    .dataframe tbody tr th {\n",
       "        vertical-align: top;\n",
       "    }\n",
       "\n",
       "    .dataframe thead th {\n",
       "        text-align: right;\n",
       "    }\n",
       "</style>\n",
       "<table border=\"1\" class=\"dataframe\">\n",
       "  <thead>\n",
       "    <tr style=\"text-align: right;\">\n",
       "      <th></th>\n",
       "      <th>text</th>\n",
       "    </tr>\n",
       "  </thead>\n",
       "  <tbody>\n",
       "    <tr>\n",
       "      <th>0</th>\n",
       "      <td>Качество ткани ГОВНО!!! 100% синтетика</td>\n",
       "    </tr>\n",
       "    <tr>\n",
       "      <th>1</th>\n",
       "      <td>Пришло без точного адреса.С почты звонили на с...</td>\n",
       "    </tr>\n",
       "    <tr>\n",
       "      <th>2</th>\n",
       "      <td>Материал ужас просто</td>\n",
       "    </tr>\n",
       "    <tr>\n",
       "      <th>3</th>\n",
       "      <td>ткань не такая как смотрится на фото- просвечи...</td>\n",
       "    </tr>\n",
       "    <tr>\n",
       "      <th>4</th>\n",
       "      <td>очень неприятная к телу ткань,страшно электрил...</td>\n",
       "    </tr>\n",
       "    <tr>\n",
       "      <th>...</th>\n",
       "      <td>...</td>\n",
       "    </tr>\n",
       "    <tr>\n",
       "      <th>5689</th>\n",
       "      <td>ткань не соответствует фото</td>\n",
       "    </tr>\n",
       "    <tr>\n",
       "      <th>5690</th>\n",
       "      <td>Отель мне не понравился, единственный плюс ряд...</td>\n",
       "    </tr>\n",
       "    <tr>\n",
       "      <th>5691</th>\n",
       "      <td>белый топ действительно очень хорошо просвечив...</td>\n",
       "    </tr>\n",
       "    <tr>\n",
       "      <th>5692</th>\n",
       "      <td>Рубашка оказалась мала, хотя размеры проводила...</td>\n",
       "    </tr>\n",
       "    <tr>\n",
       "      <th>5693</th>\n",
       "      <td>На 48-50 XL  оказался маловат. Жаль.</td>\n",
       "    </tr>\n",
       "  </tbody>\n",
       "</table>\n",
       "<p>5694 rows × 1 columns</p>\n",
       "</div>"
      ],
      "text/plain": [
       "                                                   text\n",
       "0                Качество ткани ГОВНО!!! 100% синтетика\n",
       "1     Пришло без точного адреса.С почты звонили на с...\n",
       "2                                  Материал ужас просто\n",
       "3     ткань не такая как смотрится на фото- просвечи...\n",
       "4     очень неприятная к телу ткань,страшно электрил...\n",
       "...                                                 ...\n",
       "5689                        ткань не соответствует фото\n",
       "5690  Отель мне не понравился, единственный плюс ряд...\n",
       "5691  белый топ действительно очень хорошо просвечив...\n",
       "5692  Рубашка оказалась мала, хотя размеры проводила...\n",
       "5693               На 48-50 XL  оказался маловат. Жаль.\n",
       "\n",
       "[5694 rows x 1 columns]"
      ]
     },
     "execution_count": 82,
     "metadata": {},
     "output_type": "execute_result"
    }
   ],
   "source": [
    "reann_df"
   ]
  },
  {
   "cell_type": "code",
   "execution_count": 91,
   "metadata": {
    "execution": {
     "iopub.execute_input": "2024-03-25T08:36:54.643796Z",
     "iopub.status.busy": "2024-03-25T08:36:54.642911Z",
     "iopub.status.idle": "2024-03-25T08:36:54.652881Z",
     "shell.execute_reply": "2024-03-25T08:36:54.651931Z",
     "shell.execute_reply.started": "2024-03-25T08:36:54.643760Z"
    }
   },
   "outputs": [],
   "source": [
    "from transformers import pipeline\n",
    "from tqdm.notebook import tqdm\n",
    "\n",
    "sa = pipeline(task='sentiment-analysis', model = model, tokenizer = tokenizer, max_length=512, truncation=True, device = 0)\n",
    "pred = []"
   ]
  },
  {
   "cell_type": "code",
   "execution_count": 93,
   "metadata": {
    "execution": {
     "iopub.execute_input": "2024-03-25T08:37:03.770836Z",
     "iopub.status.busy": "2024-03-25T08:37:03.770462Z",
     "iopub.status.idle": "2024-03-25T08:37:03.775769Z",
     "shell.execute_reply": "2024-03-25T08:37:03.774770Z",
     "shell.execute_reply.started": "2024-03-25T08:37:03.770807Z"
    }
   },
   "outputs": [],
   "source": [
    "reann_list = reann_df[\"text\"].to_list()"
   ]
  },
  {
   "cell_type": "code",
   "execution_count": 95,
   "metadata": {
    "execution": {
     "iopub.execute_input": "2024-03-25T08:37:09.429338Z",
     "iopub.status.busy": "2024-03-25T08:37:09.428100Z",
     "iopub.status.idle": "2024-03-25T08:38:18.570954Z",
     "shell.execute_reply": "2024-03-25T08:38:18.569942Z",
     "shell.execute_reply.started": "2024-03-25T08:37:09.429295Z"
    }
   },
   "outputs": [
    {
     "data": {
      "application/vnd.jupyter.widget-view+json": {
       "model_id": "130b119b0922443bbd3231c672ed260b",
       "version_major": 2,
       "version_minor": 0
      },
      "text/plain": [
       "  0%|          | 0/5694 [00:00<?, ?it/s]"
      ]
     },
     "metadata": {},
     "output_type": "display_data"
    }
   ],
   "source": [
    "for sentence in tqdm(reann_list):\n",
    "    out = sa(sentence)\n",
    "    pred.append(out)"
   ]
  },
  {
   "cell_type": "code",
   "execution_count": 102,
   "metadata": {
    "execution": {
     "iopub.execute_input": "2024-03-25T08:39:26.664349Z",
     "iopub.status.busy": "2024-03-25T08:39:26.663964Z",
     "iopub.status.idle": "2024-03-25T08:39:26.671030Z",
     "shell.execute_reply": "2024-03-25T08:39:26.670026Z",
     "shell.execute_reply.started": "2024-03-25T08:39:26.664320Z"
    }
   },
   "outputs": [
    {
     "data": {
      "text/plain": [
       "5694"
      ]
     },
     "execution_count": 102,
     "metadata": {},
     "output_type": "execute_result"
    }
   ],
   "source": [
    "len(dic_reann[\"label\"])"
   ]
  },
  {
   "cell_type": "code",
   "execution_count": 103,
   "metadata": {
    "execution": {
     "iopub.execute_input": "2024-03-25T08:39:46.088134Z",
     "iopub.status.busy": "2024-03-25T08:39:46.086990Z",
     "iopub.status.idle": "2024-03-25T08:39:46.095433Z",
     "shell.execute_reply": "2024-03-25T08:39:46.094051Z",
     "shell.execute_reply.started": "2024-03-25T08:39:46.088064Z"
    }
   },
   "outputs": [
    {
     "data": {
      "text/plain": [
       "5694"
      ]
     },
     "execution_count": 103,
     "metadata": {},
     "output_type": "execute_result"
    }
   ],
   "source": [
    "len(dic_reann[\"text\"])"
   ]
  },
  {
   "cell_type": "code",
   "execution_count": 105,
   "metadata": {
    "execution": {
     "iopub.execute_input": "2024-03-25T08:40:12.431978Z",
     "iopub.status.busy": "2024-03-25T08:40:12.431321Z",
     "iopub.status.idle": "2024-03-25T08:40:12.518698Z",
     "shell.execute_reply": "2024-03-25T08:40:12.517618Z",
     "shell.execute_reply.started": "2024-03-25T08:40:12.431948Z"
    }
   },
   "outputs": [],
   "source": [
    "# сохраняю тексты и предсказания в файл\n",
    "dic_reann = {'text':reann_list, 'label':pred}\n",
    "output_df = pd.DataFrame(dic_reann)\n",
    "pred_for_f1 = []\n",
    "for i in output_df['label']:\n",
    "    pred_for_f1.append(i[0]['label'])\n",
    "output_df['label'] = pred_for_f1\n",
    "output_df.to_csv('reannotated.tsv', sep = '\\t')"
   ]
  }
 ],
 "metadata": {
  "kaggle": {
   "accelerator": "gpu",
   "dataSources": [
    {
     "datasetId": 4475005,
     "sourceId": 7672085,
     "sourceType": "datasetVersion"
    },
    {
     "datasetId": 4657430,
     "sourceId": 7924803,
     "sourceType": "datasetVersion"
    },
    {
     "datasetId": 4659616,
     "sourceId": 7928147,
     "sourceType": "datasetVersion"
    },
    {
     "datasetId": 4664948,
     "sourceId": 7935688,
     "sourceType": "datasetVersion"
    },
    {
     "datasetId": 4664972,
     "sourceId": 7935725,
     "sourceType": "datasetVersion"
    },
    {
     "datasetId": 4659209,
     "sourceId": 7927600,
     "sourceType": "datasetVersion"
    }
   ],
   "dockerImageVersionId": 30559,
   "isGpuEnabled": true,
   "isInternetEnabled": true,
   "language": "python",
   "sourceType": "notebook"
  },
  "kernelspec": {
   "display_name": "Python 3 (ipykernel)",
   "language": "python",
   "name": "python3"
  },
  "language_info": {
   "codemirror_mode": {
    "name": "ipython",
    "version": 3
   },
   "file_extension": ".py",
   "mimetype": "text/x-python",
   "name": "python",
   "nbconvert_exporter": "python",
   "pygments_lexer": "ipython3",
   "version": "3.10.5"
  }
 },
 "nbformat": 4,
 "nbformat_minor": 4
}
